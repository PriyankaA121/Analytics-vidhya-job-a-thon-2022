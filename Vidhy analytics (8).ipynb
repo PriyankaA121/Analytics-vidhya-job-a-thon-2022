{
 "cells": [
  {
   "cell_type": "code",
   "execution_count": 133,
   "id": "72fb192e",
   "metadata": {},
   "outputs": [],
   "source": [
    "# type your code here\n",
    "# type your code here\n",
    "# type your code here\n",
    "import pandas as pd \n",
    "\n",
    "# import 'Numpy' \n",
    "import numpy as np\n",
    "\n",
    "# import 'matplotlib.pyplot' \n",
    "import matplotlib.pyplot as plt\n",
    "\n",
    "# import 'Seaborn' \n",
    "import seaborn as sns\n",
    "\n",
    "# to suppress warnings \n",
    "from warnings import filterwarnings\n",
    "filterwarnings('ignore')\n",
    "\n",
    "\n",
    "pd.options.display.max_columns = None\n",
    "\n",
    "# display all rows of the dataframe\n",
    "pd.options.display.max_rows = None\n",
    " \n",
    "# to suppress the notation 'e'    \n",
    "pd.options.display.float_format = '{:.6f}'.format\n",
    "\n",
    "# import various metrics from 'Scikit-learn' (sklearn)\n",
    "from sklearn.model_selection import train_test_split\n",
    "\n",
    "import statsmodels\n",
    "import statsmodels.api as sm\n",
    "import statsmodels.stats.api as sms\n",
    "import statsmodels.formula.api as smf\n",
    "from statsmodels.tools.eval_measures import rmse\n",
    "from statsmodels.compat import lzip\n",
    "from statsmodels.stats.outliers_influence import variance_inflation_factor\n",
    "from statsmodels.stats.diagnostic import linear_rainbow\n",
    "import statsmodels.tsa.api as smt\n",
    "from statsmodels.graphics.gofplots import qqplot\n",
    "from statsmodels.stats.stattools import durbin_watson\n",
    "\n",
    "from scipy import stats\n",
    "from scipy.stats import shapiro\n",
    "\n",
    "# 'metrics' from sklearn is used for evaluating the model performance\n",
    "from sklearn.metrics import mean_absolute_error\n",
    "from sklearn.metrics import mean_squared_error"
   ]
  },
  {
   "cell_type": "code",
   "execution_count": 134,
   "id": "ab8bb865",
   "metadata": {},
   "outputs": [],
   "source": [
    "train=pd.read_csv('train_F3fUq2S.csv')\n",
    "test=pd.read_csv('test_Bk2wfZ3.csv')\n",
    "sample=pd.read_csv('sample_submission_LJ2N3ZQ.csv')"
   ]
  },
  {
   "cell_type": "code",
   "execution_count": 135,
   "id": "0ed6fd29",
   "metadata": {},
   "outputs": [
    {
     "data": {
      "text/html": [
       "<div>\n",
       "<style scoped>\n",
       "    .dataframe tbody tr th:only-of-type {\n",
       "        vertical-align: middle;\n",
       "    }\n",
       "\n",
       "    .dataframe tbody tr th {\n",
       "        vertical-align: top;\n",
       "    }\n",
       "\n",
       "    .dataframe thead th {\n",
       "        text-align: right;\n",
       "    }\n",
       "</style>\n",
       "<table border=\"1\" class=\"dataframe\">\n",
       "  <thead>\n",
       "    <tr style=\"text-align: right;\">\n",
       "      <th></th>\n",
       "      <th>campaign_id</th>\n",
       "      <th>sender</th>\n",
       "      <th>subject_len</th>\n",
       "      <th>body_len</th>\n",
       "      <th>mean_paragraph_len</th>\n",
       "      <th>day_of_week</th>\n",
       "      <th>is_weekend</th>\n",
       "      <th>times_of_day</th>\n",
       "      <th>category</th>\n",
       "      <th>product</th>\n",
       "      <th>no_of_CTA</th>\n",
       "      <th>mean_CTA_len</th>\n",
       "      <th>is_image</th>\n",
       "      <th>is_personalised</th>\n",
       "      <th>is_quote</th>\n",
       "      <th>is_timer</th>\n",
       "      <th>is_emoticons</th>\n",
       "      <th>is_discount</th>\n",
       "      <th>is_price</th>\n",
       "      <th>is_urgency</th>\n",
       "      <th>target_audience</th>\n",
       "      <th>click_rate</th>\n",
       "    </tr>\n",
       "  </thead>\n",
       "  <tbody>\n",
       "    <tr>\n",
       "      <th>0</th>\n",
       "      <td>1</td>\n",
       "      <td>3</td>\n",
       "      <td>76</td>\n",
       "      <td>10439</td>\n",
       "      <td>39</td>\n",
       "      <td>5</td>\n",
       "      <td>1</td>\n",
       "      <td>Noon</td>\n",
       "      <td>6</td>\n",
       "      <td>26</td>\n",
       "      <td>3</td>\n",
       "      <td>29</td>\n",
       "      <td>0</td>\n",
       "      <td>0</td>\n",
       "      <td>0</td>\n",
       "      <td>0</td>\n",
       "      <td>0</td>\n",
       "      <td>0</td>\n",
       "      <td>0</td>\n",
       "      <td>0</td>\n",
       "      <td>14</td>\n",
       "      <td>0.103079</td>\n",
       "    </tr>\n",
       "    <tr>\n",
       "      <th>1</th>\n",
       "      <td>2</td>\n",
       "      <td>3</td>\n",
       "      <td>54</td>\n",
       "      <td>2570</td>\n",
       "      <td>256</td>\n",
       "      <td>5</td>\n",
       "      <td>1</td>\n",
       "      <td>Morning</td>\n",
       "      <td>2</td>\n",
       "      <td>11</td>\n",
       "      <td>0</td>\n",
       "      <td>22</td>\n",
       "      <td>0</td>\n",
       "      <td>0</td>\n",
       "      <td>0</td>\n",
       "      <td>0</td>\n",
       "      <td>0</td>\n",
       "      <td>0</td>\n",
       "      <td>0</td>\n",
       "      <td>0</td>\n",
       "      <td>10</td>\n",
       "      <td>0.700000</td>\n",
       "    </tr>\n",
       "  </tbody>\n",
       "</table>\n",
       "</div>"
      ],
      "text/plain": [
       "   campaign_id  sender  subject_len  body_len  mean_paragraph_len  \\\n",
       "0            1       3           76     10439                  39   \n",
       "1            2       3           54      2570                 256   \n",
       "\n",
       "   day_of_week  is_weekend times_of_day  category  product  no_of_CTA  \\\n",
       "0            5           1         Noon         6       26          3   \n",
       "1            5           1      Morning         2       11          0   \n",
       "\n",
       "   mean_CTA_len  is_image  is_personalised  is_quote  is_timer  is_emoticons  \\\n",
       "0            29         0                0         0         0             0   \n",
       "1            22         0                0         0         0             0   \n",
       "\n",
       "   is_discount  is_price  is_urgency  target_audience  click_rate  \n",
       "0            0         0           0               14    0.103079  \n",
       "1            0         0           0               10    0.700000  "
      ]
     },
     "execution_count": 135,
     "metadata": {},
     "output_type": "execute_result"
    }
   ],
   "source": [
    "train.head(2)"
   ]
  },
  {
   "cell_type": "code",
   "execution_count": 136,
   "id": "cbe6bc01",
   "metadata": {},
   "outputs": [
    {
     "data": {
      "text/html": [
       "<div>\n",
       "<style scoped>\n",
       "    .dataframe tbody tr th:only-of-type {\n",
       "        vertical-align: middle;\n",
       "    }\n",
       "\n",
       "    .dataframe tbody tr th {\n",
       "        vertical-align: top;\n",
       "    }\n",
       "\n",
       "    .dataframe thead th {\n",
       "        text-align: right;\n",
       "    }\n",
       "</style>\n",
       "<table border=\"1\" class=\"dataframe\">\n",
       "  <thead>\n",
       "    <tr style=\"text-align: right;\">\n",
       "      <th></th>\n",
       "      <th>campaign_id</th>\n",
       "      <th>sender</th>\n",
       "      <th>subject_len</th>\n",
       "      <th>body_len</th>\n",
       "      <th>mean_paragraph_len</th>\n",
       "      <th>day_of_week</th>\n",
       "      <th>is_weekend</th>\n",
       "      <th>times_of_day</th>\n",
       "      <th>category</th>\n",
       "      <th>product</th>\n",
       "      <th>no_of_CTA</th>\n",
       "      <th>mean_CTA_len</th>\n",
       "      <th>is_image</th>\n",
       "      <th>is_personalised</th>\n",
       "      <th>is_quote</th>\n",
       "      <th>is_timer</th>\n",
       "      <th>is_emoticons</th>\n",
       "      <th>is_discount</th>\n",
       "      <th>is_price</th>\n",
       "      <th>is_urgency</th>\n",
       "      <th>target_audience</th>\n",
       "    </tr>\n",
       "  </thead>\n",
       "  <tbody>\n",
       "    <tr>\n",
       "      <th>0</th>\n",
       "      <td>1889</td>\n",
       "      <td>3</td>\n",
       "      <td>61</td>\n",
       "      <td>12871</td>\n",
       "      <td>11</td>\n",
       "      <td>6</td>\n",
       "      <td>1</td>\n",
       "      <td>Noon</td>\n",
       "      <td>6</td>\n",
       "      <td>26</td>\n",
       "      <td>3</td>\n",
       "      <td>37</td>\n",
       "      <td>1</td>\n",
       "      <td>0</td>\n",
       "      <td>0</td>\n",
       "      <td>0</td>\n",
       "      <td>1</td>\n",
       "      <td>0</td>\n",
       "      <td>0</td>\n",
       "      <td>0</td>\n",
       "      <td>14</td>\n",
       "    </tr>\n",
       "    <tr>\n",
       "      <th>1</th>\n",
       "      <td>1890</td>\n",
       "      <td>3</td>\n",
       "      <td>54</td>\n",
       "      <td>2569</td>\n",
       "      <td>256</td>\n",
       "      <td>5</td>\n",
       "      <td>1</td>\n",
       "      <td>Morning</td>\n",
       "      <td>2</td>\n",
       "      <td>11</td>\n",
       "      <td>0</td>\n",
       "      <td>22</td>\n",
       "      <td>0</td>\n",
       "      <td>0</td>\n",
       "      <td>0</td>\n",
       "      <td>0</td>\n",
       "      <td>0</td>\n",
       "      <td>0</td>\n",
       "      <td>0</td>\n",
       "      <td>0</td>\n",
       "      <td>10</td>\n",
       "    </tr>\n",
       "  </tbody>\n",
       "</table>\n",
       "</div>"
      ],
      "text/plain": [
       "   campaign_id  sender  subject_len  body_len  mean_paragraph_len  \\\n",
       "0         1889       3           61     12871                  11   \n",
       "1         1890       3           54      2569                 256   \n",
       "\n",
       "   day_of_week  is_weekend times_of_day  category  product  no_of_CTA  \\\n",
       "0            6           1         Noon         6       26          3   \n",
       "1            5           1      Morning         2       11          0   \n",
       "\n",
       "   mean_CTA_len  is_image  is_personalised  is_quote  is_timer  is_emoticons  \\\n",
       "0            37         1                0         0         0             1   \n",
       "1            22         0                0         0         0             0   \n",
       "\n",
       "   is_discount  is_price  is_urgency  target_audience  \n",
       "0            0         0           0               14  \n",
       "1            0         0           0               10  "
      ]
     },
     "execution_count": 136,
     "metadata": {},
     "output_type": "execute_result"
    }
   ],
   "source": [
    "test.head(2)"
   ]
  },
  {
   "cell_type": "code",
   "execution_count": 137,
   "id": "6f122413",
   "metadata": {},
   "outputs": [
    {
     "data": {
      "text/plain": [
       "(1888, 22)"
      ]
     },
     "execution_count": 137,
     "metadata": {},
     "output_type": "execute_result"
    }
   ],
   "source": [
    "train.shape"
   ]
  },
  {
   "cell_type": "code",
   "execution_count": 138,
   "id": "e3d43d31",
   "metadata": {},
   "outputs": [
    {
     "data": {
      "text/plain": [
       "(762, 21)"
      ]
     },
     "execution_count": 138,
     "metadata": {},
     "output_type": "execute_result"
    }
   ],
   "source": [
    "test.shape"
   ]
  },
  {
   "cell_type": "code",
   "execution_count": 139,
   "id": "572c196c",
   "metadata": {},
   "outputs": [
    {
     "data": {
      "text/html": [
       "<div>\n",
       "<style scoped>\n",
       "    .dataframe tbody tr th:only-of-type {\n",
       "        vertical-align: middle;\n",
       "    }\n",
       "\n",
       "    .dataframe tbody tr th {\n",
       "        vertical-align: top;\n",
       "    }\n",
       "\n",
       "    .dataframe thead th {\n",
       "        text-align: right;\n",
       "    }\n",
       "</style>\n",
       "<table border=\"1\" class=\"dataframe\">\n",
       "  <thead>\n",
       "    <tr style=\"text-align: right;\">\n",
       "      <th></th>\n",
       "      <th>campaign_id</th>\n",
       "      <th>click_rate</th>\n",
       "    </tr>\n",
       "  </thead>\n",
       "  <tbody>\n",
       "    <tr>\n",
       "      <th>0</th>\n",
       "      <td>1889</td>\n",
       "      <td>0.043454</td>\n",
       "    </tr>\n",
       "    <tr>\n",
       "      <th>1</th>\n",
       "      <td>1890</td>\n",
       "      <td>0.043454</td>\n",
       "    </tr>\n",
       "    <tr>\n",
       "      <th>2</th>\n",
       "      <td>1891</td>\n",
       "      <td>0.043454</td>\n",
       "    </tr>\n",
       "    <tr>\n",
       "      <th>3</th>\n",
       "      <td>1892</td>\n",
       "      <td>0.043454</td>\n",
       "    </tr>\n",
       "    <tr>\n",
       "      <th>4</th>\n",
       "      <td>1893</td>\n",
       "      <td>0.043454</td>\n",
       "    </tr>\n",
       "  </tbody>\n",
       "</table>\n",
       "</div>"
      ],
      "text/plain": [
       "   campaign_id  click_rate\n",
       "0         1889    0.043454\n",
       "1         1890    0.043454\n",
       "2         1891    0.043454\n",
       "3         1892    0.043454\n",
       "4         1893    0.043454"
      ]
     },
     "execution_count": 139,
     "metadata": {},
     "output_type": "execute_result"
    }
   ],
   "source": [
    "sample.head()"
   ]
  },
  {
   "cell_type": "code",
   "execution_count": 141,
   "id": "d1c043c4",
   "metadata": {},
   "outputs": [
    {
     "data": {
      "text/plain": [
       "campaign_id             int64\n",
       "sender                  int64\n",
       "subject_len             int64\n",
       "body_len                int64\n",
       "mean_paragraph_len      int64\n",
       "day_of_week             int64\n",
       "is_weekend              int64\n",
       "times_of_day           object\n",
       "category                int64\n",
       "product                 int64\n",
       "no_of_CTA               int64\n",
       "mean_CTA_len            int64\n",
       "is_image                int64\n",
       "is_personalised         int64\n",
       "is_quote                int64\n",
       "is_timer                int64\n",
       "is_emoticons            int64\n",
       "is_discount             int64\n",
       "is_price                int64\n",
       "is_urgency              int64\n",
       "target_audience         int64\n",
       "click_rate            float64\n",
       "dtype: object"
      ]
     },
     "execution_count": 141,
     "metadata": {},
     "output_type": "execute_result"
    }
   ],
   "source": [
    "train.dtypes"
   ]
  },
  {
   "cell_type": "code",
   "execution_count": 142,
   "id": "18cbfef9",
   "metadata": {},
   "outputs": [],
   "source": [
    "#Combining train and test for data preparation"
   ]
  },
  {
   "cell_type": "code",
   "execution_count": 143,
   "id": "70fbd520",
   "metadata": {},
   "outputs": [],
   "source": [
    "comb=pd.concat([train,test],sort=False,ignore_index=True)"
   ]
  },
  {
   "cell_type": "code",
   "execution_count": 144,
   "id": "43109656",
   "metadata": {},
   "outputs": [
    {
     "data": {
      "text/html": [
       "<div>\n",
       "<style scoped>\n",
       "    .dataframe tbody tr th:only-of-type {\n",
       "        vertical-align: middle;\n",
       "    }\n",
       "\n",
       "    .dataframe tbody tr th {\n",
       "        vertical-align: top;\n",
       "    }\n",
       "\n",
       "    .dataframe thead th {\n",
       "        text-align: right;\n",
       "    }\n",
       "</style>\n",
       "<table border=\"1\" class=\"dataframe\">\n",
       "  <thead>\n",
       "    <tr style=\"text-align: right;\">\n",
       "      <th></th>\n",
       "      <th>campaign_id</th>\n",
       "      <th>sender</th>\n",
       "      <th>subject_len</th>\n",
       "      <th>body_len</th>\n",
       "      <th>mean_paragraph_len</th>\n",
       "      <th>day_of_week</th>\n",
       "      <th>is_weekend</th>\n",
       "      <th>times_of_day</th>\n",
       "      <th>category</th>\n",
       "      <th>product</th>\n",
       "      <th>no_of_CTA</th>\n",
       "      <th>mean_CTA_len</th>\n",
       "      <th>is_image</th>\n",
       "      <th>is_personalised</th>\n",
       "      <th>is_quote</th>\n",
       "      <th>is_timer</th>\n",
       "      <th>is_emoticons</th>\n",
       "      <th>is_discount</th>\n",
       "      <th>is_price</th>\n",
       "      <th>is_urgency</th>\n",
       "      <th>target_audience</th>\n",
       "      <th>click_rate</th>\n",
       "    </tr>\n",
       "  </thead>\n",
       "  <tbody>\n",
       "    <tr>\n",
       "      <th>0</th>\n",
       "      <td>1</td>\n",
       "      <td>3</td>\n",
       "      <td>76</td>\n",
       "      <td>10439</td>\n",
       "      <td>39</td>\n",
       "      <td>5</td>\n",
       "      <td>1</td>\n",
       "      <td>Noon</td>\n",
       "      <td>6</td>\n",
       "      <td>26</td>\n",
       "      <td>3</td>\n",
       "      <td>29</td>\n",
       "      <td>0</td>\n",
       "      <td>0</td>\n",
       "      <td>0</td>\n",
       "      <td>0</td>\n",
       "      <td>0</td>\n",
       "      <td>0</td>\n",
       "      <td>0</td>\n",
       "      <td>0</td>\n",
       "      <td>14</td>\n",
       "      <td>0.103079</td>\n",
       "    </tr>\n",
       "    <tr>\n",
       "      <th>1</th>\n",
       "      <td>2</td>\n",
       "      <td>3</td>\n",
       "      <td>54</td>\n",
       "      <td>2570</td>\n",
       "      <td>256</td>\n",
       "      <td>5</td>\n",
       "      <td>1</td>\n",
       "      <td>Morning</td>\n",
       "      <td>2</td>\n",
       "      <td>11</td>\n",
       "      <td>0</td>\n",
       "      <td>22</td>\n",
       "      <td>0</td>\n",
       "      <td>0</td>\n",
       "      <td>0</td>\n",
       "      <td>0</td>\n",
       "      <td>0</td>\n",
       "      <td>0</td>\n",
       "      <td>0</td>\n",
       "      <td>0</td>\n",
       "      <td>10</td>\n",
       "      <td>0.700000</td>\n",
       "    </tr>\n",
       "  </tbody>\n",
       "</table>\n",
       "</div>"
      ],
      "text/plain": [
       "   campaign_id  sender  subject_len  body_len  mean_paragraph_len  \\\n",
       "0            1       3           76     10439                  39   \n",
       "1            2       3           54      2570                 256   \n",
       "\n",
       "   day_of_week  is_weekend times_of_day  category  product  no_of_CTA  \\\n",
       "0            5           1         Noon         6       26          3   \n",
       "1            5           1      Morning         2       11          0   \n",
       "\n",
       "   mean_CTA_len  is_image  is_personalised  is_quote  is_timer  is_emoticons  \\\n",
       "0            29         0                0         0         0             0   \n",
       "1            22         0                0         0         0             0   \n",
       "\n",
       "   is_discount  is_price  is_urgency  target_audience  click_rate  \n",
       "0            0         0           0               14    0.103079  \n",
       "1            0         0           0               10    0.700000  "
      ]
     },
     "execution_count": 144,
     "metadata": {},
     "output_type": "execute_result"
    }
   ],
   "source": [
    "comb.head(2)"
   ]
  },
  {
   "cell_type": "code",
   "execution_count": 145,
   "id": "449e6d2e",
   "metadata": {},
   "outputs": [
    {
     "data": {
      "text/plain": [
       "(2650, 22)"
      ]
     },
     "execution_count": 145,
     "metadata": {},
     "output_type": "execute_result"
    }
   ],
   "source": [
    "comb.shape"
   ]
  },
  {
   "cell_type": "code",
   "execution_count": 146,
   "id": "43e60efd",
   "metadata": {},
   "outputs": [
    {
     "data": {
      "text/plain": [
       "campaign_id             0\n",
       "sender                  0\n",
       "subject_len             0\n",
       "body_len                0\n",
       "mean_paragraph_len      0\n",
       "day_of_week             0\n",
       "is_weekend              0\n",
       "times_of_day            0\n",
       "category                0\n",
       "product                 0\n",
       "no_of_CTA               0\n",
       "mean_CTA_len            0\n",
       "is_image                0\n",
       "is_personalised         0\n",
       "is_quote                0\n",
       "is_timer                0\n",
       "is_emoticons            0\n",
       "is_discount             0\n",
       "is_price                0\n",
       "is_urgency              0\n",
       "target_audience         0\n",
       "click_rate            762\n",
       "dtype: int64"
      ]
     },
     "execution_count": 146,
     "metadata": {},
     "output_type": "execute_result"
    }
   ],
   "source": [
    "comb.isnull().sum()"
   ]
  },
  {
   "cell_type": "code",
   "execution_count": 147,
   "id": "e74f63a9",
   "metadata": {},
   "outputs": [],
   "source": [
    "#there is no missing value in dataset"
   ]
  },
  {
   "cell_type": "code",
   "execution_count": 148,
   "id": "c45ccd12",
   "metadata": {},
   "outputs": [
    {
     "data": {
      "image/png": "[encoded data removed]",
      "text/plain": [
       "<Figure size 432x288 with 1 Axes>"
      ]
     },
     "metadata": {
      "needs_background": "light"
     },
     "output_type": "display_data"
    }
   ],
   "source": [
    "comb.boxplot()\n",
    "plt.xticks(rotation='vertical')\n",
    "plt.show()"
   ]
  },
  {
   "cell_type": "code",
   "execution_count": 149,
   "id": "366865df",
   "metadata": {},
   "outputs": [
    {
     "name": "stdout",
     "output_type": "stream",
     "text": [
      "campaign_id          1324.500000\n",
      "sender                  0.000000\n",
      "subject_len            30.000000\n",
      "body_len             7683.000000\n",
      "mean_paragraph_len     19.000000\n",
      "day_of_week             3.000000\n",
      "is_weekend              0.000000\n",
      "category                9.000000\n",
      "product                17.000000\n",
      "no_of_CTA               3.000000\n",
      "mean_CTA_len           11.000000\n",
      "is_image                2.000000\n",
      "is_personalised         0.000000\n",
      "is_quote                1.000000\n",
      "is_timer                0.000000\n",
      "is_emoticons            0.000000\n",
      "is_discount             0.000000\n",
      "is_price                0.000000\n",
      "is_urgency              0.000000\n",
      "target_audience         0.000000\n",
      "click_rate              0.030176\n",
      "dtype: float64\n"
     ]
    }
   ],
   "source": [
    "#yes there are outlier in body_len column\n",
    "q1=comb.quantile(0.25)\n",
    "q3=comb.quantile(0.75)\n",
    "iqr=q3-q1\n",
    "print(iqr)"
   ]
  },
  {
   "cell_type": "code",
   "execution_count": 150,
   "id": "54f84ddd",
   "metadata": {},
   "outputs": [],
   "source": [
    "comb=comb[~((comb<(q1-1.5*iqr))|(comb<(q3+1.5*iqr)).any(axis=1))]"
   ]
  },
  {
   "cell_type": "code",
   "execution_count": 151,
   "id": "1680527b",
   "metadata": {},
   "outputs": [
    {
     "data": {
      "text/plain": [
       "(2650, 22)"
      ]
     },
     "execution_count": 151,
     "metadata": {},
     "output_type": "execute_result"
    }
   ],
   "source": [
    "comb.shape"
   ]
  },
  {
   "cell_type": "code",
   "execution_count": 152,
   "id": "b73c4584",
   "metadata": {},
   "outputs": [],
   "source": [
    "data=comb.copy()"
   ]
  },
  {
   "cell_type": "code",
   "execution_count": 153,
   "id": "64bb6342",
   "metadata": {},
   "outputs": [
    {
     "data": {
      "text/plain": [
       "Index(['campaign_id', 'sender', 'subject_len', 'body_len',\n",
       "       'mean_paragraph_len', 'day_of_week', 'is_weekend', 'times_of_day',\n",
       "       'category', 'product', 'no_of_CTA', 'mean_CTA_len', 'is_image',\n",
       "       'is_personalised', 'is_quote', 'is_timer', 'is_emoticons',\n",
       "       'is_discount', 'is_price', 'is_urgency', 'target_audience',\n",
       "       'click_rate'],\n",
       "      dtype='object')"
      ]
     },
     "execution_count": 153,
     "metadata": {},
     "output_type": "execute_result"
    }
   ],
   "source": [
    "comb.columns"
   ]
  },
  {
   "cell_type": "code",
   "execution_count": 154,
   "id": "562e0f35",
   "metadata": {},
   "outputs": [
    {
     "data": {
      "text/plain": [
       "Evening    1849\n",
       "Noon        622\n",
       "Morning     179\n",
       "Name: times_of_day, dtype: int64"
      ]
     },
     "execution_count": 154,
     "metadata": {},
     "output_type": "execute_result"
    }
   ],
   "source": [
    "comb.times_of_day.value_counts()"
   ]
  },
  {
   "cell_type": "code",
   "execution_count": 155,
   "id": "a2f4bd9b",
   "metadata": {},
   "outputs": [],
   "source": [
    "dummy=pd.get_dummies(comb,drop_first=True)"
   ]
  },
  {
   "cell_type": "code",
   "execution_count": 156,
   "id": "0c65eb7e",
   "metadata": {},
   "outputs": [
    {
     "data": {
      "text/html": [
       "<div>\n",
       "<style scoped>\n",
       "    .dataframe tbody tr th:only-of-type {\n",
       "        vertical-align: middle;\n",
       "    }\n",
       "\n",
       "    .dataframe tbody tr th {\n",
       "        vertical-align: top;\n",
       "    }\n",
       "\n",
       "    .dataframe thead th {\n",
       "        text-align: right;\n",
       "    }\n",
       "</style>\n",
       "<table border=\"1\" class=\"dataframe\">\n",
       "  <thead>\n",
       "    <tr style=\"text-align: right;\">\n",
       "      <th></th>\n",
       "      <th>campaign_id</th>\n",
       "      <th>sender</th>\n",
       "      <th>subject_len</th>\n",
       "      <th>body_len</th>\n",
       "      <th>mean_paragraph_len</th>\n",
       "      <th>day_of_week</th>\n",
       "      <th>is_weekend</th>\n",
       "      <th>category</th>\n",
       "      <th>product</th>\n",
       "      <th>no_of_CTA</th>\n",
       "      <th>mean_CTA_len</th>\n",
       "      <th>is_image</th>\n",
       "      <th>is_personalised</th>\n",
       "      <th>is_quote</th>\n",
       "      <th>is_timer</th>\n",
       "      <th>is_emoticons</th>\n",
       "      <th>is_discount</th>\n",
       "      <th>is_price</th>\n",
       "      <th>is_urgency</th>\n",
       "      <th>target_audience</th>\n",
       "      <th>click_rate</th>\n",
       "      <th>times_of_day_Morning</th>\n",
       "      <th>times_of_day_Noon</th>\n",
       "    </tr>\n",
       "  </thead>\n",
       "  <tbody>\n",
       "    <tr>\n",
       "      <th>0</th>\n",
       "      <td>1</td>\n",
       "      <td>3.000000</td>\n",
       "      <td>76.000000</td>\n",
       "      <td>10439</td>\n",
       "      <td>39</td>\n",
       "      <td>5</td>\n",
       "      <td>1</td>\n",
       "      <td>6</td>\n",
       "      <td>26</td>\n",
       "      <td>3</td>\n",
       "      <td>29.000000</td>\n",
       "      <td>0</td>\n",
       "      <td>0</td>\n",
       "      <td>0</td>\n",
       "      <td>0</td>\n",
       "      <td>0</td>\n",
       "      <td>0</td>\n",
       "      <td>0</td>\n",
       "      <td>0</td>\n",
       "      <td>14.000000</td>\n",
       "      <td>0.103079</td>\n",
       "      <td>0</td>\n",
       "      <td>1</td>\n",
       "    </tr>\n",
       "    <tr>\n",
       "      <th>1</th>\n",
       "      <td>2</td>\n",
       "      <td>3.000000</td>\n",
       "      <td>54.000000</td>\n",
       "      <td>2570</td>\n",
       "      <td>256</td>\n",
       "      <td>5</td>\n",
       "      <td>1</td>\n",
       "      <td>2</td>\n",
       "      <td>11</td>\n",
       "      <td>0</td>\n",
       "      <td>22.000000</td>\n",
       "      <td>0</td>\n",
       "      <td>0</td>\n",
       "      <td>0</td>\n",
       "      <td>0</td>\n",
       "      <td>0</td>\n",
       "      <td>0</td>\n",
       "      <td>0</td>\n",
       "      <td>0</td>\n",
       "      <td>NaN</td>\n",
       "      <td>0.700000</td>\n",
       "      <td>1</td>\n",
       "      <td>0</td>\n",
       "    </tr>\n",
       "    <tr>\n",
       "      <th>2</th>\n",
       "      <td>3</td>\n",
       "      <td>3.000000</td>\n",
       "      <td>59.000000</td>\n",
       "      <td>12801</td>\n",
       "      <td>16</td>\n",
       "      <td>5</td>\n",
       "      <td>1</td>\n",
       "      <td>2</td>\n",
       "      <td>11</td>\n",
       "      <td>3</td>\n",
       "      <td>23.000000</td>\n",
       "      <td>1</td>\n",
       "      <td>0</td>\n",
       "      <td>1</td>\n",
       "      <td>0</td>\n",
       "      <td>0</td>\n",
       "      <td>0</td>\n",
       "      <td>0</td>\n",
       "      <td>0</td>\n",
       "      <td>16.000000</td>\n",
       "      <td>0.002769</td>\n",
       "      <td>0</td>\n",
       "      <td>1</td>\n",
       "    </tr>\n",
       "    <tr>\n",
       "      <th>3</th>\n",
       "      <td>4</td>\n",
       "      <td>3.000000</td>\n",
       "      <td>74.000000</td>\n",
       "      <td>11037</td>\n",
       "      <td>30</td>\n",
       "      <td>4</td>\n",
       "      <td>0</td>\n",
       "      <td>15</td>\n",
       "      <td>9</td>\n",
       "      <td>4</td>\n",
       "      <td>24.000000</td>\n",
       "      <td>0</td>\n",
       "      <td>0</td>\n",
       "      <td>0</td>\n",
       "      <td>0</td>\n",
       "      <td>0</td>\n",
       "      <td>0</td>\n",
       "      <td>0</td>\n",
       "      <td>0</td>\n",
       "      <td>NaN</td>\n",
       "      <td>0.010868</td>\n",
       "      <td>0</td>\n",
       "      <td>0</td>\n",
       "    </tr>\n",
       "    <tr>\n",
       "      <th>4</th>\n",
       "      <td>5</td>\n",
       "      <td>3.000000</td>\n",
       "      <td>80.000000</td>\n",
       "      <td>10011</td>\n",
       "      <td>27</td>\n",
       "      <td>5</td>\n",
       "      <td>1</td>\n",
       "      <td>6</td>\n",
       "      <td>26</td>\n",
       "      <td>3</td>\n",
       "      <td>31.000000</td>\n",
       "      <td>0</td>\n",
       "      <td>0</td>\n",
       "      <td>1</td>\n",
       "      <td>0</td>\n",
       "      <td>0</td>\n",
       "      <td>0</td>\n",
       "      <td>0</td>\n",
       "      <td>0</td>\n",
       "      <td>14.000000</td>\n",
       "      <td>0.142826</td>\n",
       "      <td>0</td>\n",
       "      <td>1</td>\n",
       "    </tr>\n",
       "  </tbody>\n",
       "</table>\n",
       "</div>"
      ],
      "text/plain": [
       "   campaign_id   sender  subject_len  body_len  mean_paragraph_len  \\\n",
       "0            1 3.000000    76.000000     10439                  39   \n",
       "1            2 3.000000    54.000000      2570                 256   \n",
       "2            3 3.000000    59.000000     12801                  16   \n",
       "3            4 3.000000    74.000000     11037                  30   \n",
       "4            5 3.000000    80.000000     10011                  27   \n",
       "\n",
       "   day_of_week  is_weekend  category  product  no_of_CTA  mean_CTA_len  \\\n",
       "0            5           1         6       26          3     29.000000   \n",
       "1            5           1         2       11          0     22.000000   \n",
       "2            5           1         2       11          3     23.000000   \n",
       "3            4           0        15        9          4     24.000000   \n",
       "4            5           1         6       26          3     31.000000   \n",
       "\n",
       "   is_image  is_personalised  is_quote  is_timer  is_emoticons  is_discount  \\\n",
       "0         0                0         0         0             0            0   \n",
       "1         0                0         0         0             0            0   \n",
       "2         1                0         1         0             0            0   \n",
       "3         0                0         0         0             0            0   \n",
       "4         0                0         1         0             0            0   \n",
       "\n",
       "   is_price  is_urgency  target_audience  click_rate  times_of_day_Morning  \\\n",
       "0         0           0        14.000000    0.103079                     0   \n",
       "1         0           0              NaN    0.700000                     1   \n",
       "2         0           0        16.000000    0.002769                     0   \n",
       "3         0           0              NaN    0.010868                     0   \n",
       "4         0           0        14.000000    0.142826                     0   \n",
       "\n",
       "   times_of_day_Noon  \n",
       "0                  1  \n",
       "1                  0  \n",
       "2                  1  \n",
       "3                  0  \n",
       "4                  1  "
      ]
     },
     "execution_count": 156,
     "metadata": {},
     "output_type": "execute_result"
    }
   ],
   "source": [
    "dummy.head()"
   ]
  },
  {
   "cell_type": "code",
   "execution_count": 157,
   "id": "ca494a9c",
   "metadata": {},
   "outputs": [],
   "source": [
    "dummy = dummy.replace(np.nan, 0)"
   ]
  },
  {
   "cell_type": "code",
   "execution_count": 158,
   "id": "d27fc3ba",
   "metadata": {},
   "outputs": [
    {
     "data": {
      "text/plain": [
       "0"
      ]
     },
     "execution_count": 158,
     "metadata": {},
     "output_type": "execute_result"
    }
   ],
   "source": [
    "dummy.isnull().sum().sum()"
   ]
  },
  {
   "cell_type": "code",
   "execution_count": 159,
   "id": "c85547c2",
   "metadata": {},
   "outputs": [],
   "source": [
    "new_train=dummy.loc[0:train.shape[0]-1]\n",
    "new_test=dummy.loc[train.shape[0]:,:]"
   ]
  },
  {
   "cell_type": "code",
   "execution_count": 160,
   "id": "c3f7b4f1",
   "metadata": {},
   "outputs": [
    {
     "data": {
      "text/plain": [
       "False"
      ]
     },
     "execution_count": 160,
     "metadata": {},
     "output_type": "execute_result"
    }
   ],
   "source": [
    "new_train.isnull().values.any()"
   ]
  },
  {
   "cell_type": "code",
   "execution_count": 161,
   "id": "6ca73719",
   "metadata": {},
   "outputs": [
    {
     "data": {
      "text/plain": [
       "False"
      ]
     },
     "execution_count": 161,
     "metadata": {},
     "output_type": "execute_result"
    }
   ],
   "source": [
    "new_test.isnull().values.any()"
   ]
  },
  {
   "cell_type": "code",
   "execution_count": 162,
   "id": "f1b8a8e9",
   "metadata": {},
   "outputs": [
    {
     "data": {
      "text/plain": [
       "(1888, 23)"
      ]
     },
     "execution_count": 162,
     "metadata": {},
     "output_type": "execute_result"
    }
   ],
   "source": [
    "new_train.shape"
   ]
  },
  {
   "cell_type": "code",
   "execution_count": 163,
   "id": "fab6af20",
   "metadata": {},
   "outputs": [
    {
     "data": {
      "text/plain": [
       "(762, 23)"
      ]
     },
     "execution_count": 163,
     "metadata": {},
     "output_type": "execute_result"
    }
   ],
   "source": [
    "new_test.shape"
   ]
  },
  {
   "cell_type": "code",
   "execution_count": 164,
   "id": "2382c6f6",
   "metadata": {},
   "outputs": [],
   "source": [
    "new_test.drop('click_rate',axis=1,inplace=True)"
   ]
  },
  {
   "cell_type": "code",
   "execution_count": 165,
   "id": "e9abf47b",
   "metadata": {},
   "outputs": [
    {
     "data": {
      "text/plain": [
       "(762, 22)"
      ]
     },
     "execution_count": 165,
     "metadata": {},
     "output_type": "execute_result"
    }
   ],
   "source": [
    "new_test.shape"
   ]
  },
  {
   "cell_type": "code",
   "execution_count": 166,
   "id": "730145a0",
   "metadata": {},
   "outputs": [],
   "source": [
    "X=new_train.drop('click_rate',axis=1)\n",
    "y=new_train['click_rate']"
   ]
  },
  {
   "cell_type": "code",
   "execution_count": null,
   "id": "275fc0c4",
   "metadata": {},
   "outputs": [],
   "source": [
    "#linear regression model"
   ]
  },
  {
   "cell_type": "code",
   "execution_count": 72,
   "id": "bf5fd85c",
   "metadata": {},
   "outputs": [],
   "source": [
    "from sklearn.linear_model import LinearRegression\n",
    "linregg = LinearRegression()\n",
    "model=linregg.fit(X,y)\n",
    "ypred=model.predict(new_test)"
   ]
  },
  {
   "cell_type": "code",
   "execution_count": 74,
   "id": "00ee9e68",
   "metadata": {},
   "outputs": [],
   "source": [
    "#base model 1\n",
    "df=pd.DataFrame({'campaign_id':new_test.campaign_id,'click_rate':ypred})\n",
    "df.to_csv(\"LR_model\",index=False)"
   ]
  },
  {
   "cell_type": "code",
   "execution_count": null,
   "id": "a8b5058d",
   "metadata": {},
   "outputs": [],
   "source": [
    "#Feature selection through RFE"
   ]
  },
  {
   "cell_type": "code",
   "execution_count": 76,
   "id": "f8ef71bf",
   "metadata": {},
   "outputs": [
    {
     "data": {
      "text/plain": [
       "array([15, 12, 13, 16, 11, 10,  1,  7,  9,  4, 14,  6,  5,  3, 18,  2,  1,\n",
       "       17,  1,  8,  1,  1])"
      ]
     },
     "execution_count": 76,
     "metadata": {},
     "output_type": "execute_result"
    }
   ],
   "source": [
    "from sklearn.feature_selection import RFE\n",
    "linreg=LinearRegression()\n",
    "rfe=RFE(estimator=linreg,n_features_to_select=5)\n",
    "rfe_model=rfe.fit(X,y)\n",
    "rfe_model.ranking_"
   ]
  },
  {
   "cell_type": "code",
   "execution_count": 77,
   "id": "e48d0a03",
   "metadata": {},
   "outputs": [],
   "source": [
    "feat_index=pd.Series(data=rfe_model.ranking_,index=X.columns)"
   ]
  },
  {
   "cell_type": "code",
   "execution_count": 78,
   "id": "a3e39ede",
   "metadata": {},
   "outputs": [
    {
     "data": {
      "text/plain": [
       "campaign_id             15\n",
       "sender                  12\n",
       "subject_len             13\n",
       "body_len                16\n",
       "mean_paragraph_len      11\n",
       "day_of_week             10\n",
       "is_weekend               1\n",
       "category                 7\n",
       "product                  9\n",
       "no_of_CTA                4\n",
       "mean_CTA_len            14\n",
       "is_image                 6\n",
       "is_personalised          5\n",
       "is_quote                 3\n",
       "is_timer                18\n",
       "is_emoticons             2\n",
       "is_discount              1\n",
       "is_price                17\n",
       "is_urgency               1\n",
       "target_audience          8\n",
       "times_of_day_Morning     1\n",
       "times_of_day_Noon        1\n",
       "dtype: int32"
      ]
     },
     "execution_count": 78,
     "metadata": {},
     "output_type": "execute_result"
    }
   ],
   "source": [
    "feat_index"
   ]
  },
  {
   "cell_type": "code",
   "execution_count": 79,
   "id": "efc28469",
   "metadata": {},
   "outputs": [
    {
     "data": {
      "text/plain": [
       "Index(['is_weekend', 'is_discount', 'is_urgency', 'times_of_day_Morning',\n",
       "       'times_of_day_Noon'],\n",
       "      dtype='object')"
      ]
     },
     "execution_count": 79,
     "metadata": {},
     "output_type": "execute_result"
    }
   ],
   "source": [
    "sig_feat=feat_index[feat_index==1].index\n",
    "sig_feat"
   ]
  },
  {
   "cell_type": "code",
   "execution_count": 101,
   "id": "3d68351d",
   "metadata": {},
   "outputs": [
    {
     "data": {
      "text/plain": [
       "(762, 6)"
      ]
     },
     "execution_count": 101,
     "metadata": {},
     "output_type": "execute_result"
    }
   ],
   "source": [
    "xtrain_new=X[['campaign_id','is_weekend', 'is_discount', 'is_urgency', 'times_of_day_Morning',\n",
    "       'times_of_day_Noon']]\n",
    "xtest_new=new_test[['campaign_id','is_weekend', 'is_discount', 'is_urgency', 'times_of_day_Morning',\n",
    "       'times_of_day_Noon']]\n",
    "\n",
    "xtest_new.shape"
   ]
  },
  {
   "cell_type": "code",
   "execution_count": 98,
   "id": "939c45cc",
   "metadata": {},
   "outputs": [
    {
     "data": {
      "text/html": [
       "<style>#sk-container-id-5 {color: black;background-color: white;}#sk-container-id-5 pre{padding: 0;}#sk-container-id-5 div.sk-toggleable {background-color: white;}#sk-container-id-5 label.sk-toggleable__label {cursor: pointer;display: block;width: 100%;margin-bottom: 0;padding: 0.3em;box-sizing: border-box;text-align: center;}#sk-container-id-5 label.sk-toggleable__label-arrow:before {content: \"▸\";float: left;margin-right: 0.25em;color: #696969;}#sk-container-id-5 label.sk-toggleable__label-arrow:hover:before {color: black;}#sk-container-id-5 div.sk-estimator:hover label.sk-toggleable__label-arrow:before {color: black;}#sk-container-id-5 div.sk-toggleable__content {max-height: 0;max-width: 0;overflow: hidden;text-align: left;background-color: #f0f8ff;}#sk-container-id-5 div.sk-toggleable__content pre {margin: 0.2em;color: black;border-radius: 0.25em;background-color: #f0f8ff;}#sk-container-id-5 input.sk-toggleable__control:checked~div.sk-toggleable__content {max-height: 200px;max-width: 100%;overflow: auto;}#sk-container-id-5 input.sk-toggleable__control:checked~label.sk-toggleable__label-arrow:before {content: \"▾\";}#sk-container-id-5 div.sk-estimator input.sk-toggleable__control:checked~label.sk-toggleable__label {background-color: #d4ebff;}#sk-container-id-5 div.sk-label input.sk-toggleable__control:checked~label.sk-toggleable__label {background-color: #d4ebff;}#sk-container-id-5 input.sk-hidden--visually {border: 0;clip: rect(1px 1px 1px 1px);clip: rect(1px, 1px, 1px, 1px);height: 1px;margin: -1px;overflow: hidden;padding: 0;position: absolute;width: 1px;}#sk-container-id-5 div.sk-estimator {font-family: monospace;background-color: #f0f8ff;border: 1px dotted black;border-radius: 0.25em;box-sizing: border-box;margin-bottom: 0.5em;}#sk-container-id-5 div.sk-estimator:hover {background-color: #d4ebff;}#sk-container-id-5 div.sk-parallel-item::after {content: \"\";width: 100%;border-bottom: 1px solid gray;flex-grow: 1;}#sk-container-id-5 div.sk-label:hover label.sk-toggleable__label {background-color: #d4ebff;}#sk-container-id-5 div.sk-serial::before {content: \"\";position: absolute;border-left: 1px solid gray;box-sizing: border-box;top: 0;bottom: 0;left: 50%;z-index: 0;}#sk-container-id-5 div.sk-serial {display: flex;flex-direction: column;align-items: center;background-color: white;padding-right: 0.2em;padding-left: 0.2em;position: relative;}#sk-container-id-5 div.sk-item {position: relative;z-index: 1;}#sk-container-id-5 div.sk-parallel {display: flex;align-items: stretch;justify-content: center;background-color: white;position: relative;}#sk-container-id-5 div.sk-item::before, #sk-container-id-5 div.sk-parallel-item::before {content: \"\";position: absolute;border-left: 1px solid gray;box-sizing: border-box;top: 0;bottom: 0;left: 50%;z-index: -1;}#sk-container-id-5 div.sk-parallel-item {display: flex;flex-direction: column;z-index: 1;position: relative;background-color: white;}#sk-container-id-5 div.sk-parallel-item:first-child::after {align-self: flex-end;width: 50%;}#sk-container-id-5 div.sk-parallel-item:last-child::after {align-self: flex-start;width: 50%;}#sk-container-id-5 div.sk-parallel-item:only-child::after {width: 0;}#sk-container-id-5 div.sk-dashed-wrapped {border: 1px dashed gray;margin: 0 0.4em 0.5em 0.4em;box-sizing: border-box;padding-bottom: 0.4em;background-color: white;}#sk-container-id-5 div.sk-label label {font-family: monospace;font-weight: bold;display: inline-block;line-height: 1.2em;}#sk-container-id-5 div.sk-label-container {text-align: center;}#sk-container-id-5 div.sk-container {/* jupyter's `normalize.less` sets `[hidden] { display: none; }` but bootstrap.min.css set `[hidden] { display: none !important; }` so we also need the `!important` here to be able to override the default hidden behavior on the sphinx rendered scikit-learn.org. See: https://github.com/scikit-learn/scikit-learn/issues/21755 */display: inline-block !important;position: relative;}#sk-container-id-5 div.sk-text-repr-fallback {display: none;}</style><div id=\"sk-container-id-5\" class=\"sk-top-container\"><div class=\"sk-text-repr-fallback\"><pre>LinearRegression()</pre><b>In a Jupyter environment, please rerun this cell to show the HTML representation or trust the notebook. <br />On GitHub, the HTML representation is unable to render, please try loading this page with nbviewer.org.</b></div><div class=\"sk-container\" hidden><div class=\"sk-item\"><div class=\"sk-estimator sk-toggleable\"><input class=\"sk-toggleable__control sk-hidden--visually\" id=\"sk-estimator-id-5\" type=\"checkbox\" checked><label for=\"sk-estimator-id-5\" class=\"sk-toggleable__label sk-toggleable__label-arrow\">LinearRegression</label><div class=\"sk-toggleable__content\"><pre>LinearRegression()</pre></div></div></div></div></div>"
      ],
      "text/plain": [
       "LinearRegression()"
      ]
     },
     "execution_count": 98,
     "metadata": {},
     "output_type": "execute_result"
    }
   ],
   "source": [
    "\n",
    "sig_model2=linreg.fit(xtrain_new,y)\n",
    "sig_model2"
   ]
  },
  {
   "cell_type": "code",
   "execution_count": 100,
   "id": "8dccdb61",
   "metadata": {},
   "outputs": [
    {
     "data": {
      "text/plain": [
       "0.045825398282514085"
      ]
     },
     "execution_count": 100,
     "metadata": {},
     "output_type": "execute_result"
    }
   ],
   "source": [
    "sig_model2.score(xtrain_new,y)"
   ]
  },
  {
   "cell_type": "code",
   "execution_count": 102,
   "id": "d814d646",
   "metadata": {},
   "outputs": [],
   "source": [
    "yprednew=sig_model2.predict(xtest_new)"
   ]
  },
  {
   "cell_type": "code",
   "execution_count": 103,
   "id": "48e11d23",
   "metadata": {},
   "outputs": [],
   "source": [
    "#base model 2\n",
    "df=pd.DataFrame({'campaign_id':xtest_new.campaign_id,'click_rate':yprednew})\n",
    "df.to_csv(\"sig_model2\",index=False)"
   ]
  },
  {
   "cell_type": "code",
   "execution_count": null,
   "id": "cb5f30f7",
   "metadata": {},
   "outputs": [],
   "source": [
    "#3rd model random forest "
   ]
  },
  {
   "cell_type": "code",
   "execution_count": 105,
   "id": "e72326f5",
   "metadata": {},
   "outputs": [
    {
     "data": {
      "text/html": [
       "<style>#sk-container-id-7 {color: black;background-color: white;}#sk-container-id-7 pre{padding: 0;}#sk-container-id-7 div.sk-toggleable {background-color: white;}#sk-container-id-7 label.sk-toggleable__label {cursor: pointer;display: block;width: 100%;margin-bottom: 0;padding: 0.3em;box-sizing: border-box;text-align: center;}#sk-container-id-7 label.sk-toggleable__label-arrow:before {content: \"▸\";float: left;margin-right: 0.25em;color: #696969;}#sk-container-id-7 label.sk-toggleable__label-arrow:hover:before {color: black;}#sk-container-id-7 div.sk-estimator:hover label.sk-toggleable__label-arrow:before {color: black;}#sk-container-id-7 div.sk-toggleable__content {max-height: 0;max-width: 0;overflow: hidden;text-align: left;background-color: #f0f8ff;}#sk-container-id-7 div.sk-toggleable__content pre {margin: 0.2em;color: black;border-radius: 0.25em;background-color: #f0f8ff;}#sk-container-id-7 input.sk-toggleable__control:checked~div.sk-toggleable__content {max-height: 200px;max-width: 100%;overflow: auto;}#sk-container-id-7 input.sk-toggleable__control:checked~label.sk-toggleable__label-arrow:before {content: \"▾\";}#sk-container-id-7 div.sk-estimator input.sk-toggleable__control:checked~label.sk-toggleable__label {background-color: #d4ebff;}#sk-container-id-7 div.sk-label input.sk-toggleable__control:checked~label.sk-toggleable__label {background-color: #d4ebff;}#sk-container-id-7 input.sk-hidden--visually {border: 0;clip: rect(1px 1px 1px 1px);clip: rect(1px, 1px, 1px, 1px);height: 1px;margin: -1px;overflow: hidden;padding: 0;position: absolute;width: 1px;}#sk-container-id-7 div.sk-estimator {font-family: monospace;background-color: #f0f8ff;border: 1px dotted black;border-radius: 0.25em;box-sizing: border-box;margin-bottom: 0.5em;}#sk-container-id-7 div.sk-estimator:hover {background-color: #d4ebff;}#sk-container-id-7 div.sk-parallel-item::after {content: \"\";width: 100%;border-bottom: 1px solid gray;flex-grow: 1;}#sk-container-id-7 div.sk-label:hover label.sk-toggleable__label {background-color: #d4ebff;}#sk-container-id-7 div.sk-serial::before {content: \"\";position: absolute;border-left: 1px solid gray;box-sizing: border-box;top: 0;bottom: 0;left: 50%;z-index: 0;}#sk-container-id-7 div.sk-serial {display: flex;flex-direction: column;align-items: center;background-color: white;padding-right: 0.2em;padding-left: 0.2em;position: relative;}#sk-container-id-7 div.sk-item {position: relative;z-index: 1;}#sk-container-id-7 div.sk-parallel {display: flex;align-items: stretch;justify-content: center;background-color: white;position: relative;}#sk-container-id-7 div.sk-item::before, #sk-container-id-7 div.sk-parallel-item::before {content: \"\";position: absolute;border-left: 1px solid gray;box-sizing: border-box;top: 0;bottom: 0;left: 50%;z-index: -1;}#sk-container-id-7 div.sk-parallel-item {display: flex;flex-direction: column;z-index: 1;position: relative;background-color: white;}#sk-container-id-7 div.sk-parallel-item:first-child::after {align-self: flex-end;width: 50%;}#sk-container-id-7 div.sk-parallel-item:last-child::after {align-self: flex-start;width: 50%;}#sk-container-id-7 div.sk-parallel-item:only-child::after {width: 0;}#sk-container-id-7 div.sk-dashed-wrapped {border: 1px dashed gray;margin: 0 0.4em 0.5em 0.4em;box-sizing: border-box;padding-bottom: 0.4em;background-color: white;}#sk-container-id-7 div.sk-label label {font-family: monospace;font-weight: bold;display: inline-block;line-height: 1.2em;}#sk-container-id-7 div.sk-label-container {text-align: center;}#sk-container-id-7 div.sk-container {/* jupyter's `normalize.less` sets `[hidden] { display: none; }` but bootstrap.min.css set `[hidden] { display: none !important; }` so we also need the `!important` here to be able to override the default hidden behavior on the sphinx rendered scikit-learn.org. See: https://github.com/scikit-learn/scikit-learn/issues/21755 */display: inline-block !important;position: relative;}#sk-container-id-7 div.sk-text-repr-fallback {display: none;}</style><div id=\"sk-container-id-7\" class=\"sk-top-container\"><div class=\"sk-text-repr-fallback\"><pre>RandomForestRegressor(random_state=0)</pre><b>In a Jupyter environment, please rerun this cell to show the HTML representation or trust the notebook. <br />On GitHub, the HTML representation is unable to render, please try loading this page with nbviewer.org.</b></div><div class=\"sk-container\" hidden><div class=\"sk-item\"><div class=\"sk-estimator sk-toggleable\"><input class=\"sk-toggleable__control sk-hidden--visually\" id=\"sk-estimator-id-7\" type=\"checkbox\" checked><label for=\"sk-estimator-id-7\" class=\"sk-toggleable__label sk-toggleable__label-arrow\">RandomForestRegressor</label><div class=\"sk-toggleable__content\"><pre>RandomForestRegressor(random_state=0)</pre></div></div></div></div></div>"
      ],
      "text/plain": [
       "RandomForestRegressor(random_state=0)"
      ]
     },
     "execution_count": 105,
     "metadata": {},
     "output_type": "execute_result"
    }
   ],
   "source": [
    "\n",
    "from sklearn.ensemble import RandomForestRegressor\n",
    "\n",
    "\n",
    "regressor = RandomForestRegressor(n_estimators = 100, random_state = 0)\n",
    "\n",
    "# fit the regressor with x and y data\n",
    "regressor=regressor.fit(X, y)\n",
    "regressor"
   ]
  },
  {
   "cell_type": "code",
   "execution_count": 107,
   "id": "70407938",
   "metadata": {},
   "outputs": [],
   "source": [
    "predr=regressor.predict(new_test)"
   ]
  },
  {
   "cell_type": "code",
   "execution_count": 108,
   "id": "d187dd4c",
   "metadata": {},
   "outputs": [],
   "source": [
    "#base model 2\n",
    "df=pd.DataFrame({'campaign_id':new_test.campaign_id,'click_rate':predr})\n",
    "df.to_csv(\"Random\",index=False)"
   ]
  },
  {
   "cell_type": "code",
   "execution_count": 111,
   "id": "03e6ba44",
   "metadata": {},
   "outputs": [
    {
     "name": "stdout",
     "output_type": "stream",
     "text": [
      "Collecting xgboost\n",
      "  Downloading xgboost-1.6.1-py3-none-win_amd64.whl (125.4 MB)\n",
      "Requirement already satisfied: scipy in c:\\users\\123\\anaconda3\\lib\\site-packages (from xgboost) (1.6.2)\n",
      "Requirement already satisfied: numpy in c:\\users\\123\\anaconda3\\lib\\site-packages (from xgboost) (1.20.1)\n",
      "Installing collected packages: xgboost\n",
      "Successfully installed xgboost-1.6.1\n"
     ]
    }
   ],
   "source": [
    "#XGB \n",
    "!pip install xgboost"
   ]
  },
  {
   "cell_type": "code",
   "execution_count": 112,
   "id": "2bab49e4",
   "metadata": {},
   "outputs": [],
   "source": [
    "from xgboost import XGBRegressor as XGB"
   ]
  },
  {
   "cell_type": "code",
   "execution_count": 113,
   "id": "1ba40967",
   "metadata": {},
   "outputs": [],
   "source": [
    "Xgb = XGB(n_estimators=1000, max_depth=7, eta=0.1, subsample=0.7, colsample_bytree=0.8)"
   ]
  },
  {
   "cell_type": "code",
   "execution_count": 114,
   "id": "c20fd6d9",
   "metadata": {},
   "outputs": [],
   "source": [
    "Xgb=Xgb.fit(X,y)\n",
    "Xgb_pred=Xgb.predict(new_test)"
   ]
  },
  {
   "cell_type": "code",
   "execution_count": 115,
   "id": "7e3938d8",
   "metadata": {},
   "outputs": [],
   "source": [
    "#base model 4\n",
    "df=pd.DataFrame({'campaign_id':new_test.campaign_id,'click_rate':Xgb_pred})\n",
    "df.to_csv(\"XGB\",index=False)"
   ]
  },
  {
   "cell_type": "code",
   "execution_count": 117,
   "id": "247782cb",
   "metadata": {},
   "outputs": [],
   "source": [
    "Xgb1 = XGB(learning_rate=0.01,gamma=2)"
   ]
  },
  {
   "cell_type": "code",
   "execution_count": 118,
   "id": "0912f8f6",
   "metadata": {},
   "outputs": [],
   "source": [
    "Xgb1=Xgb1.fit(X,y)\n",
    "Xgb_pred1=Xgb1.predict(new_test)"
   ]
  },
  {
   "cell_type": "code",
   "execution_count": 119,
   "id": "eb3f9f3d",
   "metadata": {},
   "outputs": [],
   "source": [
    "#base model 4\n",
    "df=pd.DataFrame({'campaign_id':new_test.campaign_id,'click_rate':Xgb_pred1})\n",
    "df.to_csv(\"XGB1\",index=False)"
   ]
  },
  {
   "cell_type": "code",
   "execution_count": 128,
   "id": "017f30da",
   "metadata": {},
   "outputs": [
    {
     "data": {
      "text/plain": [
       "0"
      ]
     },
     "execution_count": 128,
     "metadata": {},
     "output_type": "execute_result"
    }
   ],
   "source": [
    "dummy.isnull().sum().sum()"
   ]
  },
  {
   "cell_type": "markdown",
   "id": "ccb93d8e",
   "metadata": {},
   "source": [
    "# Scaling"
   ]
  },
  {
   "cell_type": "code",
   "execution_count": 167,
   "id": "91acbae4",
   "metadata": {},
   "outputs": [
    {
     "data": {
      "text/html": [
       "<div>\n",
       "<style scoped>\n",
       "    .dataframe tbody tr th:only-of-type {\n",
       "        vertical-align: middle;\n",
       "    }\n",
       "\n",
       "    .dataframe tbody tr th {\n",
       "        vertical-align: top;\n",
       "    }\n",
       "\n",
       "    .dataframe thead th {\n",
       "        text-align: right;\n",
       "    }\n",
       "</style>\n",
       "<table border=\"1\" class=\"dataframe\">\n",
       "  <thead>\n",
       "    <tr style=\"text-align: right;\">\n",
       "      <th></th>\n",
       "      <th>campaign_id</th>\n",
       "      <th>sender</th>\n",
       "      <th>subject_len</th>\n",
       "      <th>body_len</th>\n",
       "      <th>mean_paragraph_len</th>\n",
       "      <th>day_of_week</th>\n",
       "      <th>is_weekend</th>\n",
       "      <th>times_of_day</th>\n",
       "      <th>category</th>\n",
       "      <th>product</th>\n",
       "      <th>no_of_CTA</th>\n",
       "      <th>mean_CTA_len</th>\n",
       "      <th>is_image</th>\n",
       "      <th>is_personalised</th>\n",
       "      <th>is_quote</th>\n",
       "      <th>is_timer</th>\n",
       "      <th>is_emoticons</th>\n",
       "      <th>is_discount</th>\n",
       "      <th>is_price</th>\n",
       "      <th>is_urgency</th>\n",
       "      <th>target_audience</th>\n",
       "      <th>click_rate</th>\n",
       "    </tr>\n",
       "  </thead>\n",
       "  <tbody>\n",
       "    <tr>\n",
       "      <th>0</th>\n",
       "      <td>1</td>\n",
       "      <td>3.000000</td>\n",
       "      <td>76.000000</td>\n",
       "      <td>10439</td>\n",
       "      <td>39</td>\n",
       "      <td>5</td>\n",
       "      <td>1</td>\n",
       "      <td>Noon</td>\n",
       "      <td>6</td>\n",
       "      <td>26</td>\n",
       "      <td>3</td>\n",
       "      <td>29.000000</td>\n",
       "      <td>0</td>\n",
       "      <td>0</td>\n",
       "      <td>0</td>\n",
       "      <td>0</td>\n",
       "      <td>0</td>\n",
       "      <td>0</td>\n",
       "      <td>0</td>\n",
       "      <td>0</td>\n",
       "      <td>14.000000</td>\n",
       "      <td>0.103079</td>\n",
       "    </tr>\n",
       "    <tr>\n",
       "      <th>1</th>\n",
       "      <td>2</td>\n",
       "      <td>3.000000</td>\n",
       "      <td>54.000000</td>\n",
       "      <td>2570</td>\n",
       "      <td>256</td>\n",
       "      <td>5</td>\n",
       "      <td>1</td>\n",
       "      <td>Morning</td>\n",
       "      <td>2</td>\n",
       "      <td>11</td>\n",
       "      <td>0</td>\n",
       "      <td>22.000000</td>\n",
       "      <td>0</td>\n",
       "      <td>0</td>\n",
       "      <td>0</td>\n",
       "      <td>0</td>\n",
       "      <td>0</td>\n",
       "      <td>0</td>\n",
       "      <td>0</td>\n",
       "      <td>0</td>\n",
       "      <td>NaN</td>\n",
       "      <td>0.700000</td>\n",
       "    </tr>\n",
       "  </tbody>\n",
       "</table>\n",
       "</div>"
      ],
      "text/plain": [
       "   campaign_id   sender  subject_len  body_len  mean_paragraph_len  \\\n",
       "0            1 3.000000    76.000000     10439                  39   \n",
       "1            2 3.000000    54.000000      2570                 256   \n",
       "\n",
       "   day_of_week  is_weekend times_of_day  category  product  no_of_CTA  \\\n",
       "0            5           1         Noon         6       26          3   \n",
       "1            5           1      Morning         2       11          0   \n",
       "\n",
       "   mean_CTA_len  is_image  is_personalised  is_quote  is_timer  is_emoticons  \\\n",
       "0     29.000000         0                0         0         0             0   \n",
       "1     22.000000         0                0         0         0             0   \n",
       "\n",
       "   is_discount  is_price  is_urgency  target_audience  click_rate  \n",
       "0            0         0           0        14.000000    0.103079  \n",
       "1            0         0           0              NaN    0.700000  "
      ]
     },
     "execution_count": 167,
     "metadata": {},
     "output_type": "execute_result"
    }
   ],
   "source": [
    "\n",
    "comb.head(2)"
   ]
  },
  {
   "cell_type": "code",
   "execution_count": 168,
   "id": "87bc31aa",
   "metadata": {
    "scrolled": true
   },
   "outputs": [
    {
     "data": {
      "text/html": [
       "<div>\n",
       "<style scoped>\n",
       "    .dataframe tbody tr th:only-of-type {\n",
       "        vertical-align: middle;\n",
       "    }\n",
       "\n",
       "    .dataframe tbody tr th {\n",
       "        vertical-align: top;\n",
       "    }\n",
       "\n",
       "    .dataframe thead th {\n",
       "        text-align: right;\n",
       "    }\n",
       "</style>\n",
       "<table border=\"1\" class=\"dataframe\">\n",
       "  <thead>\n",
       "    <tr style=\"text-align: right;\">\n",
       "      <th></th>\n",
       "      <th>campaign_id</th>\n",
       "      <th>sender</th>\n",
       "      <th>subject_len</th>\n",
       "      <th>body_len</th>\n",
       "      <th>mean_paragraph_len</th>\n",
       "      <th>day_of_week</th>\n",
       "      <th>is_weekend</th>\n",
       "      <th>category</th>\n",
       "      <th>product</th>\n",
       "      <th>no_of_CTA</th>\n",
       "      <th>mean_CTA_len</th>\n",
       "      <th>is_image</th>\n",
       "      <th>is_personalised</th>\n",
       "      <th>is_quote</th>\n",
       "      <th>is_timer</th>\n",
       "      <th>is_emoticons</th>\n",
       "      <th>is_discount</th>\n",
       "      <th>is_price</th>\n",
       "      <th>is_urgency</th>\n",
       "      <th>target_audience</th>\n",
       "    </tr>\n",
       "  </thead>\n",
       "  <tbody>\n",
       "    <tr>\n",
       "      <th>0</th>\n",
       "      <td>-1.731397</td>\n",
       "      <td>-0.421031</td>\n",
       "      <td>-0.353487</td>\n",
       "      <td>-0.514432</td>\n",
       "      <td>0.156572</td>\n",
       "      <td>1.222777</td>\n",
       "      <td>1.983639</td>\n",
       "      <td>-0.725028</td>\n",
       "      <td>0.686377</td>\n",
       "      <td>-0.275156</td>\n",
       "      <td>-0.127551</td>\n",
       "      <td>-1.057412</td>\n",
       "      <td>-0.236171</td>\n",
       "      <td>-0.816823</td>\n",
       "      <td>0.000000</td>\n",
       "      <td>-0.315908</td>\n",
       "      <td>-0.196998</td>\n",
       "      <td>-0.069751</td>\n",
       "      <td>-0.356623</td>\n",
       "      <td>0.979943</td>\n",
       "    </tr>\n",
       "    <tr>\n",
       "      <th>1</th>\n",
       "      <td>-1.730090</td>\n",
       "      <td>-0.421031</td>\n",
       "      <td>-1.087272</td>\n",
       "      <td>-1.594971</td>\n",
       "      <td>7.964826</td>\n",
       "      <td>1.222777</td>\n",
       "      <td>1.983639</td>\n",
       "      <td>-1.479006</td>\n",
       "      <td>-0.542996</td>\n",
       "      <td>-0.951978</td>\n",
       "      <td>-0.745106</td>\n",
       "      <td>-1.057412</td>\n",
       "      <td>-0.236171</td>\n",
       "      <td>-0.816823</td>\n",
       "      <td>0.000000</td>\n",
       "      <td>-0.315908</td>\n",
       "      <td>-0.196998</td>\n",
       "      <td>-0.069751</td>\n",
       "      <td>-0.356623</td>\n",
       "      <td>NaN</td>\n",
       "    </tr>\n",
       "  </tbody>\n",
       "</table>\n",
       "</div>"
      ],
      "text/plain": [
       "   campaign_id    sender  subject_len  body_len  mean_paragraph_len  \\\n",
       "0    -1.731397 -0.421031    -0.353487 -0.514432            0.156572   \n",
       "1    -1.730090 -0.421031    -1.087272 -1.594971            7.964826   \n",
       "\n",
       "   day_of_week  is_weekend  category   product  no_of_CTA  mean_CTA_len  \\\n",
       "0     1.222777    1.983639 -0.725028  0.686377  -0.275156     -0.127551   \n",
       "1     1.222777    1.983639 -1.479006 -0.542996  -0.951978     -0.745106   \n",
       "\n",
       "   is_image  is_personalised  is_quote  is_timer  is_emoticons  is_discount  \\\n",
       "0 -1.057412        -0.236171 -0.816823  0.000000     -0.315908    -0.196998   \n",
       "1 -1.057412        -0.236171 -0.816823  0.000000     -0.315908    -0.196998   \n",
       "\n",
       "   is_price  is_urgency  target_audience  \n",
       "0 -0.069751   -0.356623         0.979943  \n",
       "1 -0.069751   -0.356623              NaN  "
      ]
     },
     "execution_count": 168,
     "metadata": {},
     "output_type": "execute_result"
    }
   ],
   "source": [
    "from sklearn.preprocessing import StandardScaler\n",
    "\n",
    "ss= StandardScaler()\n",
    "df_numeric = comb.select_dtypes(include=np.number).drop([\"click_rate\"],axis=1) \n",
    "num_scaled = ss.fit_transform(df_numeric) \n",
    "df_num = pd.DataFrame(num_scaled, columns = df_numeric.columns)\n",
    "df_num.head(2)"
   ]
  },
  {
   "cell_type": "code",
   "execution_count": 172,
   "id": "6fdbd021",
   "metadata": {},
   "outputs": [
    {
     "data": {
      "text/html": [
       "<div>\n",
       "<style scoped>\n",
       "    .dataframe tbody tr th:only-of-type {\n",
       "        vertical-align: middle;\n",
       "    }\n",
       "\n",
       "    .dataframe tbody tr th {\n",
       "        vertical-align: top;\n",
       "    }\n",
       "\n",
       "    .dataframe thead th {\n",
       "        text-align: right;\n",
       "    }\n",
       "</style>\n",
       "<table border=\"1\" class=\"dataframe\">\n",
       "  <thead>\n",
       "    <tr style=\"text-align: right;\">\n",
       "      <th></th>\n",
       "      <th>campaign_id</th>\n",
       "      <th>sender</th>\n",
       "      <th>subject_len</th>\n",
       "      <th>body_len</th>\n",
       "      <th>mean_paragraph_len</th>\n",
       "      <th>day_of_week</th>\n",
       "      <th>is_weekend</th>\n",
       "      <th>category</th>\n",
       "      <th>product</th>\n",
       "      <th>no_of_CTA</th>\n",
       "      <th>mean_CTA_len</th>\n",
       "      <th>is_image</th>\n",
       "      <th>is_personalised</th>\n",
       "      <th>is_quote</th>\n",
       "      <th>is_timer</th>\n",
       "      <th>is_emoticons</th>\n",
       "      <th>is_discount</th>\n",
       "      <th>is_price</th>\n",
       "      <th>is_urgency</th>\n",
       "      <th>target_audience</th>\n",
       "      <th>times_of_day_Morning</th>\n",
       "      <th>times_of_day_Noon</th>\n",
       "    </tr>\n",
       "  </thead>\n",
       "  <tbody>\n",
       "    <tr>\n",
       "      <th>0</th>\n",
       "      <td>-1.731397</td>\n",
       "      <td>-0.421031</td>\n",
       "      <td>-0.353487</td>\n",
       "      <td>-0.514432</td>\n",
       "      <td>0.156572</td>\n",
       "      <td>1.222777</td>\n",
       "      <td>1.983639</td>\n",
       "      <td>-0.725028</td>\n",
       "      <td>0.686377</td>\n",
       "      <td>-0.275156</td>\n",
       "      <td>-0.127551</td>\n",
       "      <td>-1.057412</td>\n",
       "      <td>-0.236171</td>\n",
       "      <td>-0.816823</td>\n",
       "      <td>0.000000</td>\n",
       "      <td>-0.315908</td>\n",
       "      <td>-0.196998</td>\n",
       "      <td>-0.069751</td>\n",
       "      <td>-0.356623</td>\n",
       "      <td>0.979943</td>\n",
       "      <td>0</td>\n",
       "      <td>1</td>\n",
       "    </tr>\n",
       "  </tbody>\n",
       "</table>\n",
       "</div>"
      ],
      "text/plain": [
       "   campaign_id    sender  subject_len  body_len  mean_paragraph_len  \\\n",
       "0    -1.731397 -0.421031    -0.353487 -0.514432            0.156572   \n",
       "\n",
       "   day_of_week  is_weekend  category  product  no_of_CTA  mean_CTA_len  \\\n",
       "0     1.222777    1.983639 -0.725028 0.686377  -0.275156     -0.127551   \n",
       "\n",
       "   is_image  is_personalised  is_quote  is_timer  is_emoticons  is_discount  \\\n",
       "0 -1.057412        -0.236171 -0.816823  0.000000     -0.315908    -0.196998   \n",
       "\n",
       "   is_price  is_urgency  target_audience  times_of_day_Morning  \\\n",
       "0 -0.069751   -0.356623         0.979943                     0   \n",
       "\n",
       "   times_of_day_Noon  \n",
       "0                  1  "
      ]
     },
     "execution_count": 172,
     "metadata": {},
     "output_type": "execute_result"
    }
   ],
   "source": [
    "\n",
    "df_categorical = comb.select_dtypes(include=\"object\")\n",
    "df_cat = pd.get_dummies(df_categorical, drop_first=True)\n",
    "df1 = pd.concat([df_num,df_cat],axis=1)\n",
    "df1 = df1.replace(np.nan, 0)\n",
    "df1.head(1)"
   ]
  },
  {
   "cell_type": "code",
   "execution_count": 171,
   "id": "e554a9e9",
   "metadata": {},
   "outputs": [],
   "source": [
    "new_train_scale=dummy.loc[0:train.shape[0]-1]\n",
    "new_test_scale=dummy.loc[train.shape[0]:,:]\n"
   ]
  },
  {
   "cell_type": "code",
   "execution_count": 177,
   "id": "6aee64ed",
   "metadata": {},
   "outputs": [],
   "source": [
    "new_test_scale.drop('click_rate',axis=1,inplace=True)"
   ]
  },
  {
   "cell_type": "code",
   "execution_count": 173,
   "id": "b899b8ef",
   "metadata": {},
   "outputs": [],
   "source": [
    "Xgb_scale = XGB(n_estimators=1000, max_depth=7, eta=0.1, subsample=0.7, colsample_bytree=0.8)"
   ]
  },
  {
   "cell_type": "code",
   "execution_count": 175,
   "id": "79e27916",
   "metadata": {},
   "outputs": [],
   "source": [
    "X1=new_train_scale.drop('click_rate',axis=1)\n",
    "y1=new_train_scale['click_rate']"
   ]
  },
  {
   "cell_type": "code",
   "execution_count": 178,
   "id": "a9042587",
   "metadata": {},
   "outputs": [],
   "source": [
    "Xgb=Xgb.fit(X1,y1)\n",
    "Xgb_pred_scale=Xgb.predict(new_test_scale)"
   ]
  },
  {
   "cell_type": "code",
   "execution_count": 179,
   "id": "d9317277",
   "metadata": {},
   "outputs": [],
   "source": [
    "#base model 5 scale data xgb\n",
    "df=pd.DataFrame({'campaign_id':new_test_scale.campaign_id,'click_rate':Xgb_pred_scale})\n",
    "df.to_csv(\"XGB1_scale\",index=False)"
   ]
  },
  {
   "cell_type": "markdown",
   "id": "a4328a9e",
   "metadata": {},
   "source": [
    "# Decision tree"
   ]
  },
  {
   "cell_type": "code",
   "execution_count": 180,
   "id": "5bcc8dbc",
   "metadata": {},
   "outputs": [
    {
     "data": {
      "text/html": [
       "<style>#sk-container-id-8 {color: black;background-color: white;}#sk-container-id-8 pre{padding: 0;}#sk-container-id-8 div.sk-toggleable {background-color: white;}#sk-container-id-8 label.sk-toggleable__label {cursor: pointer;display: block;width: 100%;margin-bottom: 0;padding: 0.3em;box-sizing: border-box;text-align: center;}#sk-container-id-8 label.sk-toggleable__label-arrow:before {content: \"▸\";float: left;margin-right: 0.25em;color: #696969;}#sk-container-id-8 label.sk-toggleable__label-arrow:hover:before {color: black;}#sk-container-id-8 div.sk-estimator:hover label.sk-toggleable__label-arrow:before {color: black;}#sk-container-id-8 div.sk-toggleable__content {max-height: 0;max-width: 0;overflow: hidden;text-align: left;background-color: #f0f8ff;}#sk-container-id-8 div.sk-toggleable__content pre {margin: 0.2em;color: black;border-radius: 0.25em;background-color: #f0f8ff;}#sk-container-id-8 input.sk-toggleable__control:checked~div.sk-toggleable__content {max-height: 200px;max-width: 100%;overflow: auto;}#sk-container-id-8 input.sk-toggleable__control:checked~label.sk-toggleable__label-arrow:before {content: \"▾\";}#sk-container-id-8 div.sk-estimator input.sk-toggleable__control:checked~label.sk-toggleable__label {background-color: #d4ebff;}#sk-container-id-8 div.sk-label input.sk-toggleable__control:checked~label.sk-toggleable__label {background-color: #d4ebff;}#sk-container-id-8 input.sk-hidden--visually {border: 0;clip: rect(1px 1px 1px 1px);clip: rect(1px, 1px, 1px, 1px);height: 1px;margin: -1px;overflow: hidden;padding: 0;position: absolute;width: 1px;}#sk-container-id-8 div.sk-estimator {font-family: monospace;background-color: #f0f8ff;border: 1px dotted black;border-radius: 0.25em;box-sizing: border-box;margin-bottom: 0.5em;}#sk-container-id-8 div.sk-estimator:hover {background-color: #d4ebff;}#sk-container-id-8 div.sk-parallel-item::after {content: \"\";width: 100%;border-bottom: 1px solid gray;flex-grow: 1;}#sk-container-id-8 div.sk-label:hover label.sk-toggleable__label {background-color: #d4ebff;}#sk-container-id-8 div.sk-serial::before {content: \"\";position: absolute;border-left: 1px solid gray;box-sizing: border-box;top: 0;bottom: 0;left: 50%;z-index: 0;}#sk-container-id-8 div.sk-serial {display: flex;flex-direction: column;align-items: center;background-color: white;padding-right: 0.2em;padding-left: 0.2em;position: relative;}#sk-container-id-8 div.sk-item {position: relative;z-index: 1;}#sk-container-id-8 div.sk-parallel {display: flex;align-items: stretch;justify-content: center;background-color: white;position: relative;}#sk-container-id-8 div.sk-item::before, #sk-container-id-8 div.sk-parallel-item::before {content: \"\";position: absolute;border-left: 1px solid gray;box-sizing: border-box;top: 0;bottom: 0;left: 50%;z-index: -1;}#sk-container-id-8 div.sk-parallel-item {display: flex;flex-direction: column;z-index: 1;position: relative;background-color: white;}#sk-container-id-8 div.sk-parallel-item:first-child::after {align-self: flex-end;width: 50%;}#sk-container-id-8 div.sk-parallel-item:last-child::after {align-self: flex-start;width: 50%;}#sk-container-id-8 div.sk-parallel-item:only-child::after {width: 0;}#sk-container-id-8 div.sk-dashed-wrapped {border: 1px dashed gray;margin: 0 0.4em 0.5em 0.4em;box-sizing: border-box;padding-bottom: 0.4em;background-color: white;}#sk-container-id-8 div.sk-label label {font-family: monospace;font-weight: bold;display: inline-block;line-height: 1.2em;}#sk-container-id-8 div.sk-label-container {text-align: center;}#sk-container-id-8 div.sk-container {/* jupyter's `normalize.less` sets `[hidden] { display: none; }` but bootstrap.min.css set `[hidden] { display: none !important; }` so we also need the `!important` here to be able to override the default hidden behavior on the sphinx rendered scikit-learn.org. See: https://github.com/scikit-learn/scikit-learn/issues/21755 */display: inline-block !important;position: relative;}#sk-container-id-8 div.sk-text-repr-fallback {display: none;}</style><div id=\"sk-container-id-8\" class=\"sk-top-container\"><div class=\"sk-text-repr-fallback\"><pre>DecisionTreeRegressor(random_state=0)</pre><b>In a Jupyter environment, please rerun this cell to show the HTML representation or trust the notebook. <br />On GitHub, the HTML representation is unable to render, please try loading this page with nbviewer.org.</b></div><div class=\"sk-container\" hidden><div class=\"sk-item\"><div class=\"sk-estimator sk-toggleable\"><input class=\"sk-toggleable__control sk-hidden--visually\" id=\"sk-estimator-id-8\" type=\"checkbox\" checked><label for=\"sk-estimator-id-8\" class=\"sk-toggleable__label sk-toggleable__label-arrow\">DecisionTreeRegressor</label><div class=\"sk-toggleable__content\"><pre>DecisionTreeRegressor(random_state=0)</pre></div></div></div></div></div>"
      ],
      "text/plain": [
       "DecisionTreeRegressor(random_state=0)"
      ]
     },
     "execution_count": 180,
     "metadata": {},
     "output_type": "execute_result"
    }
   ],
   "source": [
    "# import the regressor\n",
    "from sklearn.tree import DecisionTreeRegressor\n",
    "\n",
    "# create a regressor object\n",
    "DTregressor = DecisionTreeRegressor(random_state = 0)\n",
    "\n",
    "# fit the regressor with X and Y data\n",
    "DTregressor.fit(X1, y1)\n"
   ]
  },
  {
   "cell_type": "code",
   "execution_count": 183,
   "id": "4793e81b",
   "metadata": {},
   "outputs": [],
   "source": [
    "y1pred=DTregressor.predict(new_test_scale)\n"
   ]
  },
  {
   "cell_type": "code",
   "execution_count": 184,
   "id": "216e13e4",
   "metadata": {},
   "outputs": [],
   "source": [
    "#base model 6 scale data DT\n",
    "df=pd.DataFrame({'campaign_id':new_test_scale.campaign_id,'click_rate':y1pred})\n",
    "df.to_csv(\"DT_regression\",index=False)"
   ]
  },
  {
   "cell_type": "code",
   "execution_count": 185,
   "id": "f3231a1f",
   "metadata": {},
   "outputs": [],
   "source": [
    "# import the regressor\n",
    "from sklearn.tree import DecisionTreeRegressor\n",
    "\n",
    "# create a regressor object\n",
    "DTregressor = DecisionTreeRegressor(random_state = 0)\n",
    "\n",
    "# fit the regressor with X and Y data\n",
    "dt1=DTregressor.fit(X, y)\n"
   ]
  },
  {
   "cell_type": "code",
   "execution_count": 186,
   "id": "fff323a1",
   "metadata": {},
   "outputs": [],
   "source": [
    "ypreddt=dt1.predict(new_test)\n"
   ]
  },
  {
   "cell_type": "code",
   "execution_count": 187,
   "id": "aed8e3c5",
   "metadata": {},
   "outputs": [],
   "source": [
    "#base model 6 scale data DT\n",
    "df=pd.DataFrame({'campaign_id':new_test.campaign_id,'click_rate':ypreddt})\n",
    "df.to_csv(\"Dt1\",index=False)"
   ]
  },
  {
   "cell_type": "markdown",
   "id": "d579924a",
   "metadata": {},
   "source": [
    "# Multicolinearity"
   ]
  },
  {
   "cell_type": "code",
   "execution_count": 189,
   "id": "defe092b",
   "metadata": {},
   "outputs": [
    {
     "data": {
      "text/plain": [
       "<AxesSubplot:>"
      ]
     },
     "execution_count": 189,
     "metadata": {},
     "output_type": "execute_result"
    },
    {
     "data": {
      "image/png": "[encoded data removed]",
      "text/plain": [
       "<Figure size 1080x720 with 2 Axes>"
      ]
     },
     "metadata": {
      "needs_background": "light"
     },
     "output_type": "display_data"
    }
   ],
   "source": [
    "plt.figure(figsize = (15,10))\n",
    "sns.heatmap(data=dummy.corr(),annot=True)"
   ]
  },
  {
   "cell_type": "markdown",
   "id": "a7200609",
   "metadata": {},
   "source": [
    "# Treatment for Multicollinearity"
   ]
  },
  {
   "cell_type": "code",
   "execution_count": 193,
   "id": "e2559c0c",
   "metadata": {},
   "outputs": [
    {
     "data": {
      "text/plain": [
       "Index(['campaign_id', 'sender', 'subject_len', 'body_len',\n",
       "       'mean_paragraph_len', 'day_of_week', 'is_weekend', 'category',\n",
       "       'product', 'no_of_CTA', 'mean_CTA_len', 'is_image', 'is_personalised',\n",
       "       'is_quote', 'is_timer', 'is_emoticons', 'is_discount', 'is_price',\n",
       "       'is_urgency', 'target_audience', 'click_rate', 'times_of_day_Morning',\n",
       "       'times_of_day_Noon'],\n",
       "      dtype='object')"
      ]
     },
     "execution_count": 193,
     "metadata": {},
     "output_type": "execute_result"
    }
   ],
   "source": [
    "# droping is_timer and is weekend column \n",
    "dummy.columns"
   ]
  },
  {
   "cell_type": "code",
   "execution_count": 194,
   "id": "59c9117d",
   "metadata": {},
   "outputs": [],
   "source": [
    "dummy=dummy.drop(['is_weekend','is_timer'],axis=1)"
   ]
  },
  {
   "cell_type": "code",
   "execution_count": 196,
   "id": "bdd2a0fc",
   "metadata": {},
   "outputs": [
    {
     "data": {
      "text/plain": [
       "(2650, 21)"
      ]
     },
     "execution_count": 196,
     "metadata": {},
     "output_type": "execute_result"
    }
   ],
   "source": [
    "dummy.shape"
   ]
  },
  {
   "cell_type": "code",
   "execution_count": 201,
   "id": "d52e5fa9",
   "metadata": {},
   "outputs": [
    {
     "name": "stdout",
     "output_type": "stream",
     "text": [
      "(762, 21)\n",
      "(1888, 21)\n"
     ]
    }
   ],
   "source": [
    "new_train1=dummy.loc[0:train.shape[0]-1]\n",
    "new_test1=dummy.loc[train.shape[0]:,:]\n",
    "print(new_test1.shape)\n",
    "print(new_train1.shape)"
   ]
  },
  {
   "cell_type": "code",
   "execution_count": 202,
   "id": "1bbc9470",
   "metadata": {},
   "outputs": [],
   "source": [
    "new_test1.drop('click_rate',axis=1,inplace=True)"
   ]
  },
  {
   "cell_type": "code",
   "execution_count": 203,
   "id": "127e59cb",
   "metadata": {},
   "outputs": [
    {
     "name": "stdout",
     "output_type": "stream",
     "text": [
      "(762, 20)\n"
     ]
    }
   ],
   "source": [
    "print(new_test1.shape)"
   ]
  },
  {
   "cell_type": "code",
   "execution_count": 204,
   "id": "b078d972",
   "metadata": {},
   "outputs": [],
   "source": [
    "X2=new_train1.drop('click_rate',axis=1)\n",
    "y2=new_train1['click_rate']"
   ]
  },
  {
   "cell_type": "code",
   "execution_count": 205,
   "id": "cea88c81",
   "metadata": {},
   "outputs": [],
   "source": [
    "Xgb_1 = XGB(n_estimators=1000, max_depth=7, eta=0.1, subsample=0.7, colsample_bytree=0.8)"
   ]
  },
  {
   "cell_type": "code",
   "execution_count": 206,
   "id": "635ed2a7",
   "metadata": {},
   "outputs": [],
   "source": [
    "Xgb2=Xgb_1.fit(X2,y2)\n",
    "Xgb2_prede=Xgb2.predict(new_test1)"
   ]
  },
  {
   "cell_type": "code",
   "execution_count": 207,
   "id": "bf9482ef",
   "metadata": {},
   "outputs": [],
   "source": [
    "#base model 6 scale data DT\n",
    "df=pd.DataFrame({'campaign_id':new_test1.campaign_id,'click_rate':Xgb2_prede})\n",
    "df.to_csv(\"XGB@\",index=False)"
   ]
  },
  {
   "cell_type": "markdown",
   "id": "7ac5bd96",
   "metadata": {},
   "source": [
    "# Ensemble method"
   ]
  },
  {
   "cell_type": "code",
   "execution_count": 210,
   "id": "1bb46b55",
   "metadata": {},
   "outputs": [
    {
     "name": "stdout",
     "output_type": "stream",
     "text": [
      "Collecting vecstack\n",
      "  Downloading vecstack-0.4.0.tar.gz (18 kB)\n",
      "Requirement already satisfied: numpy in c:\\users\\123\\anaconda3\\lib\\site-packages (from vecstack) (1.20.1)\n",
      "Requirement already satisfied: scipy in c:\\users\\123\\anaconda3\\lib\\site-packages (from vecstack) (1.6.2)\n",
      "Requirement already satisfied: scikit-learn>=0.18 in c:\\users\\123\\anaconda3\\lib\\site-packages (from vecstack) (1.1.1)\n",
      "Requirement already satisfied: joblib>=1.0.0 in c:\\users\\123\\anaconda3\\lib\\site-packages (from scikit-learn>=0.18->vecstack) (1.0.1)\n",
      "Requirement already satisfied: threadpoolctl>=2.0.0 in c:\\users\\123\\anaconda3\\lib\\site-packages (from scikit-learn>=0.18->vecstack) (2.1.0)\n",
      "Building wheels for collected packages: vecstack\n",
      "  Building wheel for vecstack (setup.py): started\n",
      "  Building wheel for vecstack (setup.py): finished with status 'done'\n",
      "  Created wheel for vecstack: filename=vecstack-0.4.0-py3-none-any.whl size=19880 sha256=8049edf55148b9e743bcae9b757668606f6ee3c4978d11877771356f0f08fbbe\n",
      "  Stored in directory: c:\\users\\123\\appdata\\local\\pip\\cache\\wheels\\17\\89\\0b\\21d5484cbf713c95b641ec1bdc40dd7ae798cbdea2337e3535\n",
      "Successfully built vecstack\n",
      "Installing collected packages: vecstack\n",
      "Successfully installed vecstack-0.4.0\n"
     ]
    }
   ],
   "source": [
    "!pip install vecstack"
   ]
  },
  {
   "cell_type": "markdown",
   "id": "87e228ad",
   "metadata": {},
   "source": [
    "# Stacking"
   ]
  },
  {
   "cell_type": "code",
   "execution_count": 229,
   "id": "8dd5dc6e",
   "metadata": {},
   "outputs": [],
   "source": [
    "\n",
    "import pandas as pd\n",
    "from sklearn.model_selection import train_test_split\n",
    "from sklearn.metrics import mean_squared_error\n",
    "from sklearn.ensemble import RandomForestRegressor\n",
    "import xgboost as xgb\n",
    "from sklearn.linear_model import LinearRegression\n",
    "from vecstack import stacking\n",
    "\n",
    "model_1 = LinearRegression()\n",
    "model_2 = xgb.XGBRegressor()\n",
    "model_3 = RandomForestRegressor()\n",
    " \n",
    "# putting all base model objects in one list\n",
    "all_models = [model_1, model_2, model_3]\n",
    " \n",
    "# computing the stack features\n",
    "s_train, s_test = stacking(all_models, X, y,new_test, sample_weight=None,\n",
    "    regression=True,\n",
    "    transform_target=None,\n",
    "    transform_pred=None,\n",
    "    mode='oof_pred_bag',\n",
    "    needs_proba=False,\n",
    "    save_dir=None,\n",
    "    metric=None,\n",
    "    n_folds=4,\n",
    "    stratified=False,\n",
    "    shuffle=True,\n",
    "    random_state=0,\n",
    "    verbose=0,)\n",
    " \n",
    "# initializing the second-level model\n",
    "final_model = model_1\n",
    " \n",
    "# fitting the second level model with stack features\n",
    "final_model = final_model.fit(s_train, y)\n",
    " \n",
    "# predicting the final output using stacking\n",
    "pred_final5 = final_model.predict(s_test)\n"
   ]
  },
  {
   "cell_type": "code",
   "execution_count": 230,
   "id": "d6aad178",
   "metadata": {},
   "outputs": [],
   "source": [
    "#base model 7 GradientBoostingRegressor\n",
    "df=pd.DataFrame({'campaign_id':new_test.campaign_id,'click_rate':pred_final5})\n",
    "df.to_csv(\"Stacking\",index=False)"
   ]
  },
  {
   "cell_type": "markdown",
   "id": "5eb2dc4c",
   "metadata": {},
   "source": [
    "# GradientBoostingRegressor"
   ]
  },
  {
   "cell_type": "code",
   "execution_count": 219,
   "id": "9712dea3",
   "metadata": {},
   "outputs": [],
   "source": [
    "from sklearn.ensemble import GradientBoostingRegressor\n",
    "\n",
    "model4 = GradientBoostingRegressor()\n",
    " \n",
    "\n",
    "model4.fit(X, y)\n",
    " \n",
    "# predicting the output on the test dataset\n",
    "pred_final4 = model.predict(new_test)\n",
    " \n"
   ]
  },
  {
   "cell_type": "code",
   "execution_count": 228,
   "id": "257dbbd6",
   "metadata": {},
   "outputs": [],
   "source": [
    "#base model 7 GradientBoostingRegressor\n",
    "df=pd.DataFrame({'campaign_id':new_test.campaign_id,'click_rate':pred_final4})\n",
    "df.to_csv(\"GradientBoostingRegressor\",index=False)"
   ]
  },
  {
   "cell_type": "code",
   "execution_count": null,
   "id": "4a0df50f",
   "metadata": {},
   "outputs": [],
   "source": []
  }
 ],
 "metadata": {
  "kernelspec": {
   "display_name": "Python 3",
   "language": "python",
   "name": "python3"
  },
  "language_info": {
   "codemirror_mode": {
    "name": "ipython",
    "version": 3
   },
   "file_extension": ".py",
   "mimetype": "text/x-python",
   "name": "python",
   "nbconvert_exporter": "python",
   "pygments_lexer": "ipython3",
   "version": "3.8.8"
  }
 },
 "nbformat": 4,
 "nbformat_minor": 5
}
